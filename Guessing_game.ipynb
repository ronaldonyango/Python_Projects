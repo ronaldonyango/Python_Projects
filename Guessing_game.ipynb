{
 "cells": [
  {
   "cell_type": "code",
   "execution_count": 23,
   "id": "bb5e1837-8604-4387-bebb-c15863ebaa09",
   "metadata": {},
   "outputs": [],
   "source": [
    "import random as r #import the module"
   ]
  },
  {
   "cell_type": "code",
   "execution_count": 31,
   "id": "68657e4d-e49a-4f91-ba8a-9b539bfd89e1",
   "metadata": {},
   "outputs": [],
   "source": [
    "num = r.randrange(100)\n",
    "Guess = 4"
   ]
  },
  {
   "cell_type": "code",
   "execution_count": 32,
   "id": "c4f199d9-3cd0-47f1-a39f-b083f6c4082c",
   "metadata": {},
   "outputs": [
    {
     "name": "stdin",
     "output_type": "stream",
     "text": [
      "Enter your Guess:  45\n"
     ]
    },
    {
     "name": "stdout",
     "output_type": "stream",
     "text": [
      "So close! Try a lower number\n"
     ]
    },
    {
     "name": "stdin",
     "output_type": "stream",
     "text": [
      "Enter your Guess:  40\n"
     ]
    },
    {
     "name": "stdout",
     "output_type": "stream",
     "text": [
      "So close! Try a lower number\n"
     ]
    },
    {
     "name": "stdin",
     "output_type": "stream",
     "text": [
      "Enter your Guess:  30\n"
     ]
    },
    {
     "name": "stdout",
     "output_type": "stream",
     "text": [
      "So close! Try a higher number\n"
     ]
    },
    {
     "name": "stdin",
     "output_type": "stream",
     "text": [
      "Enter your Guess:  35\n"
     ]
    },
    {
     "name": "stdout",
     "output_type": "stream",
     "text": [
      "So close! Try a lower number\n",
      "Last chance!\n"
     ]
    },
    {
     "name": "stdin",
     "output_type": "stream",
     "text": [
      "Enter your Guess:  20\n"
     ]
    },
    {
     "name": "stdout",
     "output_type": "stream",
     "text": [
      "You lost!\n"
     ]
    }
   ],
   "source": [
    "while Guess >= 0:\n",
    "    your_guess = int(input(\"Enter your Guess: \"))\n",
    "    \n",
    "    def check(x):\n",
    "        if your_guess == x:\n",
    "            print('You win!')\n",
    "        elif your_guess > x:\n",
    "            print('So close! Try a lower number')\n",
    "        else:\n",
    "            print('So close! Try a higher number')\n",
    "    if Guess > 1:\n",
    "        check(num)\n",
    "    elif Guess == 1:\n",
    "        check(num)\n",
    "        print('Last chance!')\n",
    "    else:\n",
    "        print('You lost!')\n",
    "    Guess = Guess - 1"
   ]
  }
 ],
 "metadata": {
  "kernelspec": {
   "display_name": "Python 3 (ipykernel)",
   "language": "python",
   "name": "python3"
  },
  "language_info": {
   "codemirror_mode": {
    "name": "ipython",
    "version": 3
   },
   "file_extension": ".py",
   "mimetype": "text/x-python",
   "name": "python",
   "nbconvert_exporter": "python",
   "pygments_lexer": "ipython3",
   "version": "3.9.12"
  }
 },
 "nbformat": 4,
 "nbformat_minor": 5
}
