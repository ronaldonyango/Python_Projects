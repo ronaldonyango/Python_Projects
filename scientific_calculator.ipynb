{
 "cells": [
  {
   "cell_type": "code",
   "execution_count": 2,
   "id": "5697b5bd-6cc2-4276-8ec8-7ec0911a8474",
   "metadata": {},
   "outputs": [],
   "source": []
  },
  {
   "cell_type": "code",
   "execution_count": 3,
   "id": "34942a0f-1ae7-46fa-9491-51d212a680d1",
   "metadata": {},
   "outputs": [],
   "source": []
  },
  {
   "cell_type": "code",
   "execution_count": 11,
   "id": "ea4d8e85-8729-41d4-9672-647925c9a391",
   "metadata": {},
   "outputs": [
    {
     "name": "stdout",
     "output_type": "stream",
     "text": [
      "\n",
      "Choose a number for the following operations:\n",
      "1 - Addition ➕\n",
      "2 - Subtraction➖\n",
      "3 - Multiplication❌\n",
      "4 - Divide➗\n",
      "5 - Square(x)\n",
      "6 - Squareroot(x)\n",
      "7 - sin(x)\n",
      "8 - cos(x)\n",
      "9 - tan(x)\n",
      "\n"
     ]
    },
    {
     "name": "stdin",
     "output_type": "stream",
     "text": [
      "What operation do you want to perform? 5\n"
     ]
    },
    {
     "name": "stdout",
     "output_type": "stream",
     "text": [
      "Enter the paramters\n"
     ]
    },
    {
     "name": "stdin",
     "output_type": "stream",
     "text": [
      "Enter x:  5\n"
     ]
    },
    {
     "name": "stdout",
     "output_type": "stream",
     "text": [
      "Square = 25\n"
     ]
    },
    {
     "name": "stdin",
     "output_type": "stream",
     "text": [
      "Do you want to continue? Yes - 1, No - 0 5\n"
     ]
    },
    {
     "name": "stdout",
     "output_type": "stream",
     "text": [
      "Enter the paramters\n"
     ]
    },
    {
     "name": "stdin",
     "output_type": "stream",
     "text": [
      "Enter x:  2\n"
     ]
    },
    {
     "name": "stdout",
     "output_type": "stream",
     "text": [
      "Square = 4\n"
     ]
    },
    {
     "name": "stdin",
     "output_type": "stream",
     "text": [
      "Do you want to continue? Yes - 1, No - 0 1\n",
      "Enter operation 2\n"
     ]
    },
    {
     "name": "stdout",
     "output_type": "stream",
     "text": [
      "Enter the paramters\n"
     ]
    },
    {
     "name": "stdin",
     "output_type": "stream",
     "text": [
      "Enter x:  3\n",
      "Enter y:  3\n"
     ]
    },
    {
     "name": "stdout",
     "output_type": "stream",
     "text": [
      "Subtraction = 0\n"
     ]
    },
    {
     "name": "stdin",
     "output_type": "stream",
     "text": [
      "Do you want to continue? Yes - 1, No - 0 1\n",
      "Enter operation 2\n"
     ]
    },
    {
     "name": "stdout",
     "output_type": "stream",
     "text": [
      "Enter the paramters\n"
     ]
    },
    {
     "name": "stdin",
     "output_type": "stream",
     "text": [
      "Enter x:  5\n",
      "Enter y:  4\n"
     ]
    },
    {
     "name": "stdout",
     "output_type": "stream",
     "text": [
      "Subtraction = 1\n"
     ]
    },
    {
     "name": "stdin",
     "output_type": "stream",
     "text": [
      "Do you want to continue? Yes - 1, No - 0 1\n",
      "Enter operation 3\n"
     ]
    },
    {
     "name": "stdout",
     "output_type": "stream",
     "text": [
      "Enter the paramters\n"
     ]
    },
    {
     "name": "stdin",
     "output_type": "stream",
     "text": [
      "Enter x:  5\n",
      "Enter y:  9\n"
     ]
    },
    {
     "name": "stdout",
     "output_type": "stream",
     "text": [
      "Multiplication = 45\n"
     ]
    },
    {
     "name": "stdin",
     "output_type": "stream",
     "text": [
      "Do you want to continue? Yes - 1, No - 0 1\n",
      "Enter operation 5\n"
     ]
    },
    {
     "name": "stdout",
     "output_type": "stream",
     "text": [
      "Enter the paramters\n"
     ]
    },
    {
     "name": "stdin",
     "output_type": "stream",
     "text": [
      "Enter x:  2\n"
     ]
    },
    {
     "name": "stdout",
     "output_type": "stream",
     "text": [
      "Square = 4\n"
     ]
    },
    {
     "name": "stdin",
     "output_type": "stream",
     "text": [
      "Do you want to continue? Yes - 1, No - 0 1\n",
      "Enter operation 4\n"
     ]
    },
    {
     "name": "stdout",
     "output_type": "stream",
     "text": [
      "Enter the paramters\n"
     ]
    },
    {
     "name": "stdin",
     "output_type": "stream",
     "text": [
      "Enter x:  6\n",
      "Enter y:  3\n"
     ]
    },
    {
     "name": "stdout",
     "output_type": "stream",
     "text": [
      "Division = 2.0\n"
     ]
    },
    {
     "name": "stdin",
     "output_type": "stream",
     "text": [
      "Do you want to continue? Yes - 1, No - 0 0\n"
     ]
    },
    {
     "name": "stdout",
     "output_type": "stream",
     "text": [
      "Thanks for using the scientificcalulator\n"
     ]
    }
   ],
   "source": [
    "import math\n",
    "# operations in the scientific calculator\n",
    "\n",
    "def add(a,b):\n",
    "    return a + b\n",
    "\n",
    "def subtract(a,b):\n",
    "    return a - b\n",
    "\n",
    "def multiply(a,b):\n",
    "    return a * b\n",
    "\n",
    "def divide(a,b):\n",
    "    return a / b\n",
    "\n",
    "def sqrt(a):\n",
    "    result = math.sqrt(a)\n",
    "    return result\n",
    "\n",
    "def exp(a):\n",
    "    return a ** 2\n",
    "\n",
    "def sin(x):\n",
    "    result = math.sin(x)\n",
    "    return result\n",
    "\n",
    "def cos(x):\n",
    "    result = math.cos(x)\n",
    "    return result\n",
    "\n",
    "def tan(x):\n",
    "    result = math.tan(x)\n",
    "    return result\n",
    "\n",
    "print(\"\"\"\n",
    "Choose a number for the following operations:\n",
    "1 - Addition ➕\n",
    "2 - Subtraction➖\n",
    "3 - Multiplication❌\n",
    "4 - Divide➗\n",
    "5 - Square(x)\n",
    "6 - Squareroot(x)\n",
    "7 - sin(x)\n",
    "8 - cos(x)\n",
    "9 - tan(x)\n",
    "\"\"\")\n",
    "\n",
    "op = int(input(\"What operation do you want to perform?\"))\n",
    "\n",
    "while op < 10:\n",
    "    # addition\n",
    "    if op == 1:\n",
    "        print(\"Enter the paramters\")\n",
    "        x1 = int(input(\"Enter x: \"))\n",
    "        y1 = int(input(\"Enter y: \"))\n",
    "        res1 = add(x1,y1)\n",
    "        print(\"Addition =\", res1)\n",
    "    # subtraction\n",
    "    elif op == 2:\n",
    "        print(\"Enter the paramters\")\n",
    "        x2 = int(input(\"Enter x: \"))\n",
    "        y2 = int(input(\"Enter y: \"))\n",
    "        res2 = subtract(x2,y2)\n",
    "        print(\"Subtraction =\", res2)\n",
    "    # multiplication  \n",
    "    elif op == 3:\n",
    "        print(\"Enter the paramters\")\n",
    "        x3 = int(input(\"Enter x: \"))\n",
    "        y3 = int(input(\"Enter y: \"))\n",
    "        res3 = multiply(x3,y3)\n",
    "        print(\"Multiplication =\", res3)\n",
    "    # division  \n",
    "    elif op == 4:\n",
    "        print(\"Enter the paramters\")\n",
    "        x4 = int(input(\"Enter x: \"))\n",
    "        y4 = int(input(\"Enter y: \"))\n",
    "        res4 = divide(x4,y4)\n",
    "        print(\"Division =\", res4)\n",
    "    # square\n",
    "    elif op == 5:\n",
    "        print(\"Enter the paramters\")\n",
    "        x5 = int(input(\"Enter x: \"))\n",
    "        res5 = exp(x5)\n",
    "        print(\"Square =\", res5)\n",
    "    # squareroot\n",
    "    elif op == 6:\n",
    "        print(\"Enter the paramters\")\n",
    "        x6 = int(input(\"Enter x: \"))\n",
    "        res6 = sqrt(x6)\n",
    "        print(\"Squareroot =\", res6)\n",
    "    # sine function\n",
    "    elif op == 7:\n",
    "        print(\"Enter the paramters\")\n",
    "        x7 = int(input(\"Enter x: \"))\n",
    "        res7 = sin(x7)\n",
    "        print(\"Sine(x) =\", res7)\n",
    "    # cosine\n",
    "    elif op == 8:\n",
    "        print(\"Enter the paramters\")\n",
    "        x8 = int(input(\"Enter x: \"))\n",
    "        res8 = cos(x8)\n",
    "        print(\"Cos(x) =\", res8)\n",
    "    # tan function\n",
    "    elif op == 9:\n",
    "        print(\"Enter the paramters\")\n",
    "        x9 = int(input(\"Enter x: \"))\n",
    "        res9 = tan(x9)\n",
    "        print(\"Tan(x) =\", res9)\n",
    "    else:\n",
    "        print(\"Choose another operation\")\n",
    "    \n",
    "    new = int(input(\"Do you want to continue? Yes - 1, No - 0\"))\n",
    "    if new == 1:\n",
    "        op = int(input(\"Enter operation\"))\n",
    "    elif new == 0:\n",
    "        print(\"Thank you for using the scientific calculator!\")\n",
    "        break"
   ]
  }
 ],
 "metadata": {
  "kernelspec": {
   "display_name": "Python 3 (ipykernel)",
   "language": "python",
   "name": "python3"
  },
  "language_info": {
   "codemirror_mode": {
    "name": "ipython",
    "version": 3
   },
   "file_extension": ".py",
   "mimetype": "text/x-python",
   "name": "python",
   "nbconvert_exporter": "python",
   "pygments_lexer": "ipython3",
   "version": "3.9.12"
  }
 },
 "nbformat": 4,
 "nbformat_minor": 5
}
